{
 "cells": [
  {
   "cell_type": "markdown",
   "metadata": {
    "collapsed": true
   },
   "source": [
    "# Statements Assessment Test\n",
    "Let's test your knowledge!"
   ]
  },
  {
   "cell_type": "markdown",
   "metadata": {},
   "source": [
    "_____\n",
    "**Use <code>for</code>, .split(), and <code>if</code> to create a Statement that will print out words that start with 's':**"
   ]
  },
  {
   "cell_type": "code",
   "execution_count": null,
   "metadata": {},
   "outputs": [],
   "source": []
  },
  {
   "cell_type": "code",
   "execution_count": 23,
   "metadata": {},
   "outputs": [
    {
     "name": "stdout",
     "output_type": "stream",
     "text": [
      "start\n",
      "s\n",
      "sentence\n"
     ]
    }
   ],
   "source": [
    "st = 'Print only the words that start with s in this sentence'\n",
    "new = st.split()\n",
    "for item in new:\n",
    "    if item[0] == 's':\n",
    "        print(item)"
   ]
  },
  {
   "cell_type": "markdown",
   "metadata": {},
   "source": [
    "______\n",
    "**Use range() to print all the even numbers from 0 to 10.**"
   ]
  },
  {
   "cell_type": "code",
   "execution_count": 51,
   "metadata": {},
   "outputs": [
    {
     "name": "stdout",
     "output_type": "stream",
     "text": [
      "0\n",
      "2\n",
      "4\n",
      "6\n",
      "8\n",
      "10\n"
     ]
    }
   ],
   "source": [
    "#Code Here\n",
    "for item in range(0,11):\n",
    "    if item % 2 == 0:\n",
    "        print(item)"
   ]
  },
  {
   "cell_type": "markdown",
   "metadata": {},
   "source": [
    "___\n",
    "**Use a List Comprehension to create a list of all numbers between 1 and 50 that are divisible by 3.**"
   ]
  },
  {
   "cell_type": "code",
   "execution_count": 66,
   "metadata": {},
   "outputs": [
    {
     "data": {
      "text/plain": [
       "[3, 6, 9, 12, 15, 18, 21, 24, 27, 30, 33, 36, 39, 42, 45, 48]"
      ]
     },
     "execution_count": 66,
     "metadata": {},
     "output_type": "execute_result"
    }
   ],
   "source": [
    "#Code in this cell\n",
    "[num for num in range(1,51) if num % 3 == 0]"
   ]
  },
  {
   "cell_type": "markdown",
   "metadata": {},
   "source": [
    "_____\n",
    "**Go through the string below and if the length of a word is even print \"even!\"**"
   ]
  },
  {
   "cell_type": "code",
   "execution_count": 50,
   "metadata": {},
   "outputs": [],
   "source": [
    "st = 'Print every word in this sentence that has an even number of letters'"
   ]
  },
  {
   "cell_type": "code",
   "execution_count": 49,
   "metadata": {},
   "outputs": [
    {
     "name": "stdout",
     "output_type": "stream",
     "text": [
      "The word \"word\" is EVEN!\n",
      "The word \"in\" is EVEN!\n",
      "The word \"this\" is EVEN!\n",
      "The word \"sentence\" is EVEN!\n",
      "The word \"that\" is EVEN!\n",
      "The word \"an\" is EVEN!\n",
      "The word \"even\" is EVEN!\n",
      "The word \"number\" is EVEN!\n",
      "The word \"of\" is EVEN!\n"
     ]
    }
   ],
   "source": [
    "#Code in this cell\n",
    "st = 'Print every word in this sentence that has an even number of letters'\n",
    "my_list = st.split()\n",
    "for sign in my_list:\n",
    "    if len(sign) % 2 == 0:\n",
    "        print(f'The word \"{sign}\" is EVEN!')"
   ]
  },
  {
   "cell_type": "markdown",
   "metadata": {},
   "source": [
    "____\n",
    "**Write a program that prints the integers from 1 to 100. But for multiples of three print \"Fizz\" instead of the number, and for the multiples of five print \"Buzz\". For numbers which are multiples of both three and five print \"FizzBuzz\".**"
   ]
  },
  {
   "cell_type": "code",
   "execution_count": 60,
   "metadata": {},
   "outputs": [
    {
     "name": "stdout",
     "output_type": "stream",
     "text": [
      "1\n",
      "2\n",
      "For number 3 we have Fizz\n",
      "4\n",
      "For number 5 we have Buzz\n",
      "For number 6 we have Fizz\n",
      "7\n",
      "8\n",
      "For number 9 we have Fizz\n",
      "For number 10 we have Buzz\n",
      "11\n",
      "For number 12 we have Fizz\n",
      "13\n",
      "14\n",
      "For number 15 we have FizzBuzz\n",
      "16\n",
      "17\n",
      "For number 18 we have Fizz\n",
      "19\n",
      "For number 20 we have Buzz\n",
      "For number 21 we have Fizz\n",
      "22\n",
      "23\n",
      "For number 24 we have Fizz\n",
      "For number 25 we have Buzz\n",
      "26\n",
      "For number 27 we have Fizz\n",
      "28\n",
      "29\n",
      "For number 30 we have FizzBuzz\n",
      "31\n",
      "32\n",
      "For number 33 we have Fizz\n",
      "34\n",
      "For number 35 we have Buzz\n",
      "For number 36 we have Fizz\n",
      "37\n",
      "38\n",
      "For number 39 we have Fizz\n",
      "For number 40 we have Buzz\n",
      "41\n",
      "For number 42 we have Fizz\n",
      "43\n",
      "44\n",
      "For number 45 we have FizzBuzz\n",
      "46\n",
      "47\n",
      "For number 48 we have Fizz\n",
      "49\n",
      "For number 50 we have Buzz\n",
      "For number 51 we have Fizz\n",
      "52\n",
      "53\n",
      "For number 54 we have Fizz\n",
      "For number 55 we have Buzz\n",
      "56\n",
      "For number 57 we have Fizz\n",
      "58\n",
      "59\n",
      "For number 60 we have FizzBuzz\n",
      "61\n",
      "62\n",
      "For number 63 we have Fizz\n",
      "64\n",
      "For number 65 we have Buzz\n",
      "For number 66 we have Fizz\n",
      "67\n",
      "68\n",
      "For number 69 we have Fizz\n",
      "For number 70 we have Buzz\n",
      "71\n",
      "For number 72 we have Fizz\n",
      "73\n",
      "74\n",
      "For number 75 we have FizzBuzz\n",
      "76\n",
      "77\n",
      "For number 78 we have Fizz\n",
      "79\n",
      "For number 80 we have Buzz\n",
      "For number 81 we have Fizz\n",
      "82\n",
      "83\n",
      "For number 84 we have Fizz\n",
      "For number 85 we have Buzz\n",
      "86\n",
      "For number 87 we have Fizz\n",
      "88\n",
      "89\n",
      "For number 90 we have FizzBuzz\n",
      "91\n",
      "92\n",
      "For number 93 we have Fizz\n",
      "94\n",
      "For number 95 we have Buzz\n",
      "For number 96 we have Fizz\n",
      "97\n",
      "98\n",
      "For number 99 we have Fizz\n",
      "For number 100 we have Buzz\n"
     ]
    }
   ],
   "source": [
    "#Code in this cell\n",
    "for num in range(1,101):\n",
    "    if (num % 3 == 0) and (num % 5 == 0):\n",
    "        print(f\"For number {num} we have FizzBuzz\")\n",
    "    elif (num % 3 == 0):\n",
    "        print(f\"For number {num} we have Fizz\")\n",
    "    elif (num % 5 == 0):\n",
    "        print(f\"For number {num} we have Buzz\")\n",
    "    else:\n",
    "        print(num)"
   ]
  },
  {
   "cell_type": "markdown",
   "metadata": {},
   "source": [
    "____\n",
    "**Use List Comprehension to create a list of the first letters of every word in the string below:**"
   ]
  },
  {
   "cell_type": "code",
   "execution_count": null,
   "metadata": {},
   "outputs": [],
   "source": [
    "st = 'Create a list of the first letters of every word in this string'"
   ]
  },
  {
   "cell_type": "code",
   "execution_count": 97,
   "metadata": {},
   "outputs": [
    {
     "data": {
      "text/plain": [
       "['C', 'a', 'l', 'o', 't', 'f', 'l', 'o', 'e', 'w', 'i', 't', 's']"
      ]
     },
     "execution_count": 97,
     "metadata": {},
     "output_type": "execute_result"
    }
   ],
   "source": [
    "#Code in this cell\n",
    "#[num for num in range(1,51) if num % 3 == 0]\n",
    "st = 'Create a list of the first letters of every word in this string'\n",
    "#[word[0] for word in st.split()]\n",
    "my=[]\n",
    "for letter in st.split():\n",
    "    if letter[0]:\n",
    "        my.append(letter[0])\n",
    "my"
   ]
  },
  {
   "cell_type": "markdown",
   "metadata": {},
   "source": [
    "### Great Job!"
   ]
  },
  {
   "cell_type": "code",
   "execution_count": null,
   "metadata": {},
   "outputs": [],
   "source": []
  }
 ],
 "metadata": {
  "kernelspec": {
   "display_name": "Python 3",
   "language": "python",
   "name": "python3"
  },
  "language_info": {
   "codemirror_mode": {
    "name": "ipython",
    "version": 3
   },
   "file_extension": ".py",
   "mimetype": "text/x-python",
   "name": "python",
   "nbconvert_exporter": "python",
   "pygments_lexer": "ipython3",
   "version": "3.7.4"
  }
 },
 "nbformat": 4,
 "nbformat_minor": 1
}
