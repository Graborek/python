{
 "cells": [
  {
   "cell_type": "markdown",
   "metadata": {},
   "source": [
    "# How many primes within given range + print it out"
   ]
  },
  {
   "cell_type": "code",
   "execution_count": 2,
   "metadata": {
    "scrolled": true
   },
   "outputs": [],
   "source": [
    "def is_prime(b):\n",
    "    is_prime = True\n",
    "    for z in range(2,b):\n",
    "        if b % z == 0:\n",
    "            is_prime = False\n",
    "    return is_prime\n",
    "\n",
    "def prime(number):\n",
    "    counter = 0\n",
    "    prime_list = []\n",
    "    for x in range(2,number):\n",
    "        is_prime(x)\n",
    "        if is_prime(x) == True:\n",
    "            prime_list.append(x)\n",
    "            counter = counter +1\n",
    "    return counter, prime_list"
   ]
  },
  {
   "cell_type": "code",
   "execution_count": null,
   "metadata": {},
   "outputs": [],
   "source": []
  },
  {
   "cell_type": "markdown",
   "metadata": {},
   "source": []
  },
  {
   "cell_type": "code",
   "execution_count": null,
   "metadata": {},
   "outputs": [],
   "source": [
    "def is_prime(number):\n",
    "    is_prime = True\n",
    "    for z in range(2,number):\n",
    "        if number % z == 0:\n",
    "            is_prime = False\n",
    "    return is_prime"
   ]
  },
  {
   "cell_type": "code",
   "execution_count": null,
   "metadata": {},
   "outputs": [],
   "source": [
    "is_prime(3)"
   ]
  },
  {
   "cell_type": "markdown",
   "metadata": {},
   "source": [
    "# Are all first letters in the string UPPER?"
   ]
  },
  {
   "cell_type": "code",
   "execution_count": null,
   "metadata": {},
   "outputs": [],
   "source": [
    "def animal_crackers(text):\n",
    "    state = True\n",
    "    x = text.split()\n",
    "    for z in x:\n",
    "        if z[0] == z[0].lower():\n",
    "            state = False\n",
    "    return state"
   ]
  },
  {
   "cell_type": "markdown",
   "metadata": {},
   "source": [
    "# Is first letter of the word equal to the next first letter of the word vol. 1"
   ]
  },
  {
   "cell_type": "code",
   "execution_count": null,
   "metadata": {},
   "outputs": [],
   "source": [
    "def myfunc(string):\n",
    "    x = string.split()\n",
    "    first_letter = string[0]\n",
    "    for word in x:\n",
    "        if word[0] != first_letter:\n",
    "            return False\n",
    "    return True"
   ]
  },
  {
   "cell_type": "markdown",
   "metadata": {},
   "source": [
    "# Is first letter of the word equal to the next first letter of the word vol. 2"
   ]
  },
  {
   "cell_type": "code",
   "execution_count": null,
   "metadata": {},
   "outputs": [],
   "source": [
    "def animal_crackers(string):\n",
    "    state = True\n",
    "    x = string.split()\n",
    "    mylist = []\n",
    "    for word in x:\n",
    "        mylist.append(word[0])\n",
    "    for i in range(len(mylist)-1):\n",
    "        if mylist[i] != mylist[i+1]:\n",
    "            state = False\n",
    "    return state"
   ]
  },
  {
   "cell_type": "code",
   "execution_count": null,
   "metadata": {},
   "outputs": [],
   "source": []
  }
 ],
 "metadata": {
  "kernelspec": {
   "display_name": "Python 3",
   "language": "python",
   "name": "python3"
  },
  "language_info": {
   "codemirror_mode": {
    "name": "ipython",
    "version": 3
   },
   "file_extension": ".py",
   "mimetype": "text/x-python",
   "name": "python",
   "nbconvert_exporter": "python",
   "pygments_lexer": "ipython3",
   "version": "3.7.4"
  }
 },
 "nbformat": 4,
 "nbformat_minor": 2
}
